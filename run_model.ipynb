{
 "cells": [
  {
   "cell_type": "code",
   "execution_count": 1,
   "id": "87e3ea40-4f6b-4fd7-bf88-535db59a826e",
   "metadata": {},
   "outputs": [
    {
     "name": "stdout",
     "output_type": "stream",
     "text": [
      "['__builtins__', '__cached__', '__doc__', '__file__', '__loader__', '__name__', '__package__', '__spec__', 'json', 'load_model', 'os', 'save_model', 'test_model', 'torch', 'torchvision', 'train_model']\n"
     ]
    }
   ],
   "source": [
    "import sys\n",
    "sys.path.append(\"./utils\")\n",
    "sys.path.append(\"./model\")\n",
    "from utils import helper\n",
    "import model_utils\n",
    "import torch\n",
    "import torchvision\n",
    "import torch.nn as nn\n",
    "from torchvision import transforms\n",
    "import matplotlib.pyplot as plt\n",
    "import torch.utils.data as data\n",
    "\n",
    "helper.set_random_seed()\n",
    "batch_size = 128 # batch_size = 128 for arXiv:1512.03385\n",
    "print(dir(model_utils))"
   ]
  },
  {
   "cell_type": "code",
   "execution_count": 1,
   "id": "241aff5d-f1a4-4abc-9670-33bf673a292c",
   "metadata": {},
   "outputs": [
    {
     "ename": "NameError",
     "evalue": "name 'helper' is not defined",
     "output_type": "error",
     "traceback": [
      "\u001b[0;31m---------------------------------------------------------------------------\u001b[0m",
      "\u001b[0;31mNameError\u001b[0m                                 Traceback (most recent call last)",
      "Cell \u001b[0;32mIn[1], line 2\u001b[0m\n\u001b[1;32m      1\u001b[0m \u001b[38;5;66;03m#get CIFAR10 dataset\u001b[39;00m\n\u001b[0;32m----> 2\u001b[0m train_dataset,test_dataset, MEAN, STD \u001b[38;5;241m=\u001b[39m \u001b[43mhelper\u001b[49m\u001b[38;5;241m.\u001b[39mdownload_dataset(\u001b[38;5;124m\"\u001b[39m\u001b[38;5;124m./cifar10_data\u001b[39m\u001b[38;5;124m\"\u001b[39m,\u001b[38;5;124m\"\u001b[39m\u001b[38;5;124mCIFAR10\u001b[39m\u001b[38;5;124m\"\u001b[39m)\n\u001b[1;32m      3\u001b[0m _train_dataset,_val_dataset \u001b[38;5;241m=\u001b[39m torch\u001b[38;5;241m.\u001b[39mutils\u001b[38;5;241m.\u001b[39mdata\u001b[38;5;241m.\u001b[39mrandom_split(train_dataset,[\u001b[38;5;241m0.9\u001b[39m,\u001b[38;5;241m0.1\u001b[39m])\n\u001b[1;32m      4\u001b[0m \u001b[38;5;66;03m#transfomation\u001b[39;00m\n\u001b[1;32m      5\u001b[0m \u001b[38;5;66;03m#in arXiv:1512.03385, CIFAR10 data section\u001b[39;00m\n",
      "\u001b[0;31mNameError\u001b[0m: name 'helper' is not defined"
     ]
    }
   ],
   "source": [
    "#get CIFAR10 dataset\n",
    "train_dataset,test_dataset, MEAN, STD = helper.download_dataset(\"./cifar10_data\",\"CIFAR10\")\n",
    "_train_dataset,_val_dataset = torch.utils.data.random_split(train_dataset,[0.9,0.1])\n",
    "#transfomation\n",
    "#in arXiv:1512.03385, CIFAR10 data section\n",
    "aug_transforms = transforms.Compose([transforms.RandomHorizontalFlip(),\n",
    "                                     transforms.RandomCrop(size=(32,32),padding=4),\n",
    "                                     transforms.ToTensor(),\n",
    "                                     transforms.Normalize(MEAN,STD)])\n",
    "norm_transform = transforms.Compose([transforms.ToTensor(),\n",
    "                                     transforms.Normalize(MEAN,STD)])\n",
    "\n",
    "train_dataset = helper.WrappedDataset(_train_dataset,aug_transforms,n_views = 2)\n",
    "val_dataset = helper.WrappedDataset(_val_dataset,norm_transform)\n",
    "test_dataset = helper.WrappedDataset(test_dataset,norm_transform)\n",
    "\n",
    "train_loader = data.DataLoader(train_dataset,batch_size = batch_size,shuffle=True)\n",
    "val_loader = data.DataLoader(val_dataset,batch_size = batch_size,shuffle=True)\n",
    "test_loader = data.DataLoader(test_dataset,batch_size = batch_size,shuffle=True)\n",
    "# show the images after augumentaion\n",
    "classes = helper.get_cifar10_classes()\n",
    "imgs,labels = next(iter(train_loader))\n",
    "\n",
    "img_list, label_list = [],[]\n",
    "for i_view in range(2):\n",
    "    for j_img in range(batch_size):\n",
    "        img_list.append(imgs[i_view][j_img])\n",
    "        label_list.append(classes[labels[i_view][j_img]])\n",
    "helper.show_images(img_list,4,4,label_list)\n",
    "                                    "
   ]
  },
  {
   "cell_type": "code",
   "execution_count": 3,
   "id": "7f8c1351-225c-46e2-8978-e51e1ab3ccb3",
   "metadata": {},
   "outputs": [],
   "source": [
    "# get the model\n",
    "net = torchvision.models.resnet18(num_classes = 10)\n",
    "# define the loss function\n",
    "loss_fn = torch.nn.CrossEntropyLoss()\n",
    "# define the optimizer\n",
    "sgd_optimizer = torch.optim.SGD(net.parameters(),lr=0.1,momentum=0.9,weight_decay=0.0001)\n",
    "# get the device\n",
    "device = helper.get_device()\n"
   ]
  },
  {
   "cell_type": "code",
   "execution_count": 4,
   "id": "426ec779-fd48-448f-93c5-c22cf356eb72",
   "metadata": {},
   "outputs": [
    {
     "name": "stdout",
     "output_type": "stream",
     "text": [
      "epoch=0,training accuracy is 0.274\n",
      "\n",
      "epoch=1,training accuracy is 0.431\n",
      "\n",
      "epoch=2,training accuracy is 0.518\n",
      "\n",
      "epoch=3,training accuracy is 0.584\n",
      "\n",
      "epoch=4,training accuracy is 0.636\n",
      "\n",
      "epoch=5,training accuracy is 0.667\n",
      "\n",
      "epoch=6,training accuracy is 0.690\n",
      "\n",
      "epoch=7,training accuracy is 0.714\n",
      "\n",
      "epoch=8,training accuracy is 0.731\n",
      "\n",
      "epoch=9,training accuracy is 0.744\n",
      "\n",
      "epoch=10,training accuracy is 0.759\n",
      "\n",
      "epoch=11,training accuracy is 0.767\n",
      "\n",
      "epoch=12,training accuracy is 0.771\n",
      "\n",
      "epoch=13,training accuracy is 0.782\n",
      "\n",
      "epoch=14,training accuracy is 0.793\n",
      "\n",
      "epoch=15,training accuracy is 0.798\n",
      "\n",
      "epoch=16,training accuracy is 0.805\n",
      "\n",
      "epoch=17,training accuracy is 0.810\n",
      "\n",
      "epoch=18,training accuracy is 0.814\n",
      "\n",
      "epoch=19,training accuracy is 0.821\n",
      "\n",
      "epoch=20,training accuracy is 0.825\n",
      "\n",
      "epoch=21,training accuracy is 0.827\n",
      "\n",
      "epoch=22,training accuracy is 0.834\n",
      "\n",
      "epoch=23,training accuracy is 0.837\n",
      "\n",
      "epoch=24,training accuracy is 0.839\n",
      "\n",
      "epoch=25,training accuracy is 0.842\n",
      "\n",
      "epoch=26,training accuracy is 0.848\n",
      "\n",
      "epoch=27,training accuracy is 0.850\n",
      "\n",
      "epoch=28,training accuracy is 0.852\n",
      "\n",
      "epoch=29,training accuracy is 0.855\n",
      "\n",
      "epoch=30,training accuracy is 0.857\n",
      "\n",
      "epoch=31,training accuracy is 0.860\n",
      "\n",
      "epoch=32,training accuracy is 0.863\n",
      "\n",
      "epoch=33,training accuracy is 0.863\n",
      "\n",
      "epoch=34,training accuracy is 0.867\n",
      "\n",
      "epoch=35,training accuracy is 0.870\n",
      "\n",
      "epoch=36,training accuracy is 0.872\n",
      "\n",
      "epoch=37,training accuracy is 0.873\n",
      "\n",
      "epoch=38,training accuracy is 0.874\n",
      "\n",
      "epoch=39,training accuracy is 0.876\n",
      "\n",
      "epoch=40,training accuracy is 0.878\n",
      "\n",
      "epoch=41,training accuracy is 0.879\n",
      "\n",
      "epoch=42,training accuracy is 0.880\n",
      "\n",
      "epoch=43,training accuracy is 0.881\n",
      "\n",
      "epoch=44,training accuracy is 0.882\n",
      "\n",
      "epoch=45,training accuracy is 0.882\n",
      "\n",
      "epoch=46,training accuracy is 0.885\n",
      "\n",
      "epoch=47,training accuracy is 0.888\n",
      "\n",
      "epoch=48,training accuracy is 0.887\n",
      "\n",
      "epoch=49,training accuracy is 0.889\n",
      "\n",
      "Training took 568.0203104019165 sec\n"
     ]
    }
   ],
   "source": [
    "# in the paper it is trained for around 160 epoches\n",
    "with helper.Timer(\"Training\"):\n",
    "    accs = model_utils.train_model(net,sgd_optimizer,loss_fn,train_loader,test_loader,val_loader,\n",
    "                n_epoch=50, n_converge = 10,device = device)\n",
    "    torch.cuda.synchronize(device)"
   ]
  },
  {
   "cell_type": "code",
   "execution_count": 5,
   "id": "5e20e7fd-ff13-450e-bf5f-0d8f5f868e1b",
   "metadata": {},
   "outputs": [
    {
     "name": "stdout",
     "output_type": "stream",
     "text": [
      "{'training_accs': [0.27416667342185974, 0.43058890104293823, 0.5180888772010803, 0.5839444398880005, 0.6358555555343628, 0.667033314704895, 0.6897000074386597, 0.7135444283485413, 0.7309666872024536, 0.7442777752876282, 0.7590555548667908, 0.7668111324310303, 0.7710666656494141, 0.7823889255523682, 0.7927666902542114, 0.7976444363594055, 0.8050000071525574, 0.8103222250938416, 0.814466655254364, 0.8213000297546387, 0.8250333666801453, 0.8271222114562988, 0.8339222073554993, 0.8374555706977844, 0.8391777873039246, 0.8422889113426208, 0.8482999801635742, 0.849922239780426, 0.8523111343383789, 0.8554666638374329, 0.8567000031471252, 0.8599889278411865, 0.8628333210945129, 0.8625444769859314, 0.8668110966682434, 0.8696222305297852, 0.8715111017227173, 0.8732666969299316, 0.8737666606903076, 0.875677764415741, 0.8778889179229736, 0.8790667057037354, 0.8797555565834045, 0.8811777830123901, 0.8822555541992188, 0.88227778673172, 0.8854889273643494, 0.8877222537994385, 0.8869333267211914, 0.8894555568695068], 'val_accs': [0.409, 0.514, 0.5484, 0.6264, 0.6564, 0.669, 0.7008, 0.7158, 0.7208, 0.7446, 0.755, 0.7436, 0.7584, 0.7788, 0.7846, 0.79, 0.8042, 0.7806, 0.7828, 0.7882, 0.806, 0.8024, 0.7992, 0.8052, 0.813, 0.8156, 0.8038, 0.8056, 0.8106, 0.8134, 0.8052, 0.8182, 0.8084, 0.8194, 0.8182, 0.8082, 0.8158, 0.8244, 0.804, 0.8202, 0.8222, 0.8104, 0.8142, 0.8192, 0.8162, 0.8178, 0.8002, 0.8166, 0.8262, 0.8076], 'test_acc': 0.7997}\n"
     ]
    }
   ],
   "source": [
    "print(accs)"
   ]
  },
  {
   "cell_type": "code",
   "execution_count": 6,
   "id": "ad6b3c6d-6f54-4757-a7f4-9143944aa35e",
   "metadata": {},
   "outputs": [
    {
     "data": {
      "image/png": "[encoded data removed]",
      "text/plain": [
       "<Figure size 640x480 with 2 Axes>"
      ]
     },
     "metadata": {},
     "output_type": "display_data"
    }
   ],
   "source": [
    "fig,axes = plt.subplots(1,2)\n",
    "axes[0].set_title(\"training accuracy\")\n",
    "axes[0].plot(accs[\"training_accs\"])\n",
    "axes[1].set_title(\"validation accuracy\")\n",
    "axes[1].plot(accs[\"val_accs\"])\n",
    "fig.tight_layout()"
   ]
  },
  {
   "cell_type": "code",
   "execution_count": null,
   "id": "df42e970-2490-4f84-91bd-84072cd2f4ae",
   "metadata": {},
   "outputs": [],
   "source": []
  }
 ],
 "metadata": {
  "kernelspec": {
   "display_name": "Python 3 (ipykernel)",
   "language": "python",
   "name": "python3"
  },
  "language_info": {
   "codemirror_mode": {
    "name": "ipython",
    "version": 3
   },
   "file_extension": ".py",
   "mimetype": "text/x-python",
   "name": "python",
   "nbconvert_exporter": "python",
   "pygments_lexer": "ipython3",
   "version": "3.12.2"
  }
 },
 "nbformat": 4,
 "nbformat_minor": 5
}
