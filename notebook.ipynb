{
 "cells": [
  {
   "cell_type": "code",
   "execution_count": null,
   "id": "4017e6ca",
   "metadata": {},
   "outputs": [],
   "source": [
    "#download or load data set\n",
    "import torch.until.Dataset\n",
    "import torch\n",
    "from torchvision import datasets\n",
    "\n",
    "\n",
    "def download_dataset(dataset_path,dataset_name):\n",
    "    train_dataset = datasets.CIFAR10(root=DATASET_PATH, train=True, download=True)\n",
    "    DATA_MEANS = (train_dataset.data / 255.0).mean(axis=(0,1,2))\n",
    "    DATA_STD = (train_dataset.data / 255.0).std(axis=(0,1,2))\n",
    "    "
   ]
  }
 ],
 "metadata": {
  "kernelspec": {
   "display_name": "Python 3 (ipykernel)",
   "language": "python",
   "name": "python3"
  },
  "language_info": {
   "codemirror_mode": {
    "name": "ipython",
    "version": 3
   },
   "file_extension": ".py",
   "mimetype": "text/x-python",
   "name": "python",
   "nbconvert_exporter": "python",
   "pygments_lexer": "ipython3",
   "version": "3.8.13"
  }
 },
 "nbformat": 4,
 "nbformat_minor": 5
}
